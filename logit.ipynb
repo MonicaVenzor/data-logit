{
 "cells": [
  {
   "cell_type": "code",
   "execution_count": 4,
   "metadata": {},
   "outputs": [
    {
     "name": "stdout",
     "output_type": "stream",
     "text": [
      "The autoreload extension is already loaded. To reload it, use:\n",
      "  %reload_ext autoreload\n"
     ]
    }
   ],
   "source": [
    "%load_ext autoreload\n",
    "%autoreload 2"
   ]
  },
  {
   "cell_type": "markdown",
   "metadata": {},
   "source": [
    "# `Logit` on Orders - A warm-up challenge (~1h)"
   ]
  },
  {
   "cell_type": "markdown",
   "metadata": {},
   "source": [
    "## Select features"
   ]
  },
  {
   "cell_type": "markdown",
   "metadata": {},
   "source": [
    "🎯 Let's figure out the impact of `wait_time` and `delay_vs_expected` on very `good/bad reviews`\n",
    "\n",
    "👉 Using our `orders` training_set, we will run two `multivariate logistic regressions`:\n",
    "- `logit_one` to predict `dim_is_one_star` \n",
    "- `logit_five` to predict `dim_is_five_star`.\n",
    "\n",
    " "
   ]
  },
  {
   "cell_type": "code",
   "execution_count": 5,
   "metadata": {},
   "outputs": [],
   "source": [
    "import pandas as pd\n",
    "import seaborn as sns\n",
    "import statsmodels.api as sm\n",
    "import statsmodels.formula.api as smf\n",
    "import matplotlib.pyplot as plt"
   ]
  },
  {
   "cell_type": "markdown",
   "metadata": {},
   "source": [
    "👉 Import your dataset:"
   ]
  },
  {
   "cell_type": "code",
   "execution_count": 6,
   "metadata": {},
   "outputs": [],
   "source": [
    "from olist.order import Order\n",
    "orders = Order().get_training_data(with_distance_seller_customer=True)"
   ]
  },
  {
   "cell_type": "markdown",
   "metadata": {},
   "source": [
    "👉 Select in a list which features you want to use:\n",
    "\n",
    "⚠️ Make sure you are not creating data leakage (i.e. selecting features that are derived from the target)\n",
    "\n",
    "💡 To figure out the impact of `wait_time` and `delay_vs_expected` we need to control for the impact of other features, include in your list all features that may be relevant"
   ]
  },
  {
   "cell_type": "code",
   "execution_count": 11,
   "metadata": {
    "tags": [
     "challengify"
    ]
   },
   "outputs": [
    {
     "data": {
      "text/html": [
       "<div>\n",
       "<style scoped>\n",
       "    .dataframe tbody tr th:only-of-type {\n",
       "        vertical-align: middle;\n",
       "    }\n",
       "\n",
       "    .dataframe tbody tr th {\n",
       "        vertical-align: top;\n",
       "    }\n",
       "\n",
       "    .dataframe thead th {\n",
       "        text-align: right;\n",
       "    }\n",
       "</style>\n",
       "<table border=\"1\" class=\"dataframe\">\n",
       "  <thead>\n",
       "    <tr style=\"text-align: right;\">\n",
       "      <th></th>\n",
       "      <th>order_id</th>\n",
       "      <th>wait_time</th>\n",
       "      <th>expected_wait_time</th>\n",
       "      <th>delay_vs_expected</th>\n",
       "      <th>order_status</th>\n",
       "      <th>dim_is_five_star</th>\n",
       "      <th>dim_is_one_star</th>\n",
       "      <th>review_score</th>\n",
       "      <th>number_of_items</th>\n",
       "      <th>number_of_sellers</th>\n",
       "      <th>price</th>\n",
       "      <th>freight_value</th>\n",
       "      <th>distance_seller_customer</th>\n",
       "    </tr>\n",
       "  </thead>\n",
       "  <tbody>\n",
       "    <tr>\n",
       "      <th>0</th>\n",
       "      <td>e481f51cbdc54678b7cc49136f2d6af7</td>\n",
       "      <td>8.436574</td>\n",
       "      <td>15.544063</td>\n",
       "      <td>0.0</td>\n",
       "      <td>delivered</td>\n",
       "      <td>0</td>\n",
       "      <td>0</td>\n",
       "      <td>4</td>\n",
       "      <td>1</td>\n",
       "      <td>1</td>\n",
       "      <td>29.99</td>\n",
       "      <td>8.72</td>\n",
       "      <td>18.063837</td>\n",
       "    </tr>\n",
       "    <tr>\n",
       "      <th>1</th>\n",
       "      <td>53cdb2fc8bc7dce0b6741e2150273451</td>\n",
       "      <td>13.782037</td>\n",
       "      <td>19.137766</td>\n",
       "      <td>0.0</td>\n",
       "      <td>delivered</td>\n",
       "      <td>0</td>\n",
       "      <td>0</td>\n",
       "      <td>4</td>\n",
       "      <td>1</td>\n",
       "      <td>1</td>\n",
       "      <td>118.70</td>\n",
       "      <td>22.76</td>\n",
       "      <td>856.292580</td>\n",
       "    </tr>\n",
       "    <tr>\n",
       "      <th>2</th>\n",
       "      <td>47770eb9100c2d0c44946d9cf07ec65d</td>\n",
       "      <td>9.394213</td>\n",
       "      <td>26.639711</td>\n",
       "      <td>0.0</td>\n",
       "      <td>delivered</td>\n",
       "      <td>1</td>\n",
       "      <td>0</td>\n",
       "      <td>5</td>\n",
       "      <td>1</td>\n",
       "      <td>1</td>\n",
       "      <td>159.90</td>\n",
       "      <td>19.22</td>\n",
       "      <td>514.130333</td>\n",
       "    </tr>\n",
       "    <tr>\n",
       "      <th>3</th>\n",
       "      <td>949d5b44dbf5de918fe9c16f97b45f8a</td>\n",
       "      <td>13.208750</td>\n",
       "      <td>26.188819</td>\n",
       "      <td>0.0</td>\n",
       "      <td>delivered</td>\n",
       "      <td>1</td>\n",
       "      <td>0</td>\n",
       "      <td>5</td>\n",
       "      <td>1</td>\n",
       "      <td>1</td>\n",
       "      <td>45.00</td>\n",
       "      <td>27.20</td>\n",
       "      <td>1822.800366</td>\n",
       "    </tr>\n",
       "    <tr>\n",
       "      <th>4</th>\n",
       "      <td>ad21c59c0840e6cb83a9ceb5573f8159</td>\n",
       "      <td>2.873877</td>\n",
       "      <td>12.112049</td>\n",
       "      <td>0.0</td>\n",
       "      <td>delivered</td>\n",
       "      <td>1</td>\n",
       "      <td>0</td>\n",
       "      <td>5</td>\n",
       "      <td>1</td>\n",
       "      <td>1</td>\n",
       "      <td>19.90</td>\n",
       "      <td>8.72</td>\n",
       "      <td>30.174037</td>\n",
       "    </tr>\n",
       "  </tbody>\n",
       "</table>\n",
       "</div>"
      ],
      "text/plain": [
       "                           order_id  wait_time  expected_wait_time  \\\n",
       "0  e481f51cbdc54678b7cc49136f2d6af7   8.436574           15.544063   \n",
       "1  53cdb2fc8bc7dce0b6741e2150273451  13.782037           19.137766   \n",
       "2  47770eb9100c2d0c44946d9cf07ec65d   9.394213           26.639711   \n",
       "3  949d5b44dbf5de918fe9c16f97b45f8a  13.208750           26.188819   \n",
       "4  ad21c59c0840e6cb83a9ceb5573f8159   2.873877           12.112049   \n",
       "\n",
       "   delay_vs_expected order_status  dim_is_five_star  dim_is_one_star  \\\n",
       "0                0.0    delivered                 0                0   \n",
       "1                0.0    delivered                 0                0   \n",
       "2                0.0    delivered                 1                0   \n",
       "3                0.0    delivered                 1                0   \n",
       "4                0.0    delivered                 1                0   \n",
       "\n",
       "   review_score  number_of_items  number_of_sellers   price  freight_value  \\\n",
       "0             4                1                  1   29.99           8.72   \n",
       "1             4                1                  1  118.70          22.76   \n",
       "2             5                1                  1  159.90          19.22   \n",
       "3             5                1                  1   45.00          27.20   \n",
       "4             5                1                  1   19.90           8.72   \n",
       "\n",
       "   distance_seller_customer  \n",
       "0                 18.063837  \n",
       "1                856.292580  \n",
       "2                514.130333  \n",
       "3               1822.800366  \n",
       "4                 30.174037  "
      ]
     },
     "execution_count": 11,
     "metadata": {},
     "output_type": "execute_result"
    }
   ],
   "source": [
    "orders.head()"
   ]
  },
  {
   "cell_type": "code",
   "execution_count": 12,
   "metadata": {},
   "outputs": [],
   "source": [
    "orders_c = orders.copy()"
   ]
  },
  {
   "cell_type": "code",
   "execution_count": 26,
   "metadata": {},
   "outputs": [
    {
     "name": "stdout",
     "output_type": "stream",
     "text": [
      "Optimization terminated successfully.\n",
      "         Current function value: 0.273582\n",
      "         Iterations 7\n"
     ]
    },
    {
     "data": {
      "text/html": [
       "<table class=\"simpletable\">\n",
       "<caption>Logit Regression Results</caption>\n",
       "<tr>\n",
       "  <th>Dep. Variable:</th>    <td>dim_is_one_star</td> <th>  No. Observations:  </th>  <td> 95872</td> \n",
       "</tr>\n",
       "<tr>\n",
       "  <th>Model:</th>                 <td>Logit</td>      <th>  Df Residuals:      </th>  <td> 95864</td> \n",
       "</tr>\n",
       "<tr>\n",
       "  <th>Method:</th>                 <td>MLE</td>       <th>  Df Model:          </th>  <td>     7</td> \n",
       "</tr>\n",
       "<tr>\n",
       "  <th>Date:</th>            <td>Thu, 07 Nov 2024</td> <th>  Pseudo R-squ.:     </th>  <td>0.1448</td> \n",
       "</tr>\n",
       "<tr>\n",
       "  <th>Time:</th>                <td>09:26:20</td>     <th>  Log-Likelihood:    </th> <td> -26229.</td>\n",
       "</tr>\n",
       "<tr>\n",
       "  <th>converged:</th>             <td>True</td>       <th>  LL-Null:           </th> <td> -30669.</td>\n",
       "</tr>\n",
       "<tr>\n",
       "  <th>Covariance Type:</th>     <td>nonrobust</td>    <th>  LLR p-value:       </th>  <td> 0.000</td> \n",
       "</tr>\n",
       "</table>\n",
       "<table class=\"simpletable\">\n",
       "<tr>\n",
       "              <td></td>                <th>coef</th>     <th>std err</th>      <th>z</th>      <th>P>|z|</th>  <th>[0.025</th>    <th>0.975]</th>  \n",
       "</tr>\n",
       "<tr>\n",
       "  <th>Intercept</th>                <td>   -5.2724</td> <td>    0.070</td> <td>  -74.899</td> <td> 0.000</td> <td>   -5.410</td> <td>   -5.134</td>\n",
       "</tr>\n",
       "<tr>\n",
       "  <th>wait_time</th>                <td>    0.0753</td> <td>    0.002</td> <td>   42.173</td> <td> 0.000</td> <td>    0.072</td> <td>    0.079</td>\n",
       "</tr>\n",
       "<tr>\n",
       "  <th>delay_vs_expected</th>        <td>    0.0548</td> <td>    0.004</td> <td>   13.801</td> <td> 0.000</td> <td>    0.047</td> <td>    0.063</td>\n",
       "</tr>\n",
       "<tr>\n",
       "  <th>number_of_items</th>          <td>    0.4665</td> <td>    0.020</td> <td>   23.634</td> <td> 0.000</td> <td>    0.428</td> <td>    0.505</td>\n",
       "</tr>\n",
       "<tr>\n",
       "  <th>number_of_sellers</th>        <td>    1.4382</td> <td>    0.064</td> <td>   22.642</td> <td> 0.000</td> <td>    1.314</td> <td>    1.563</td>\n",
       "</tr>\n",
       "<tr>\n",
       "  <th>price</th>                    <td>    0.0002</td> <td> 5.44e-05</td> <td>    4.464</td> <td> 0.000</td> <td>    0.000</td> <td>    0.000</td>\n",
       "</tr>\n",
       "<tr>\n",
       "  <th>freight_value</th>            <td>   -0.0010</td> <td>    0.001</td> <td>   -1.697</td> <td> 0.090</td> <td>   -0.002</td> <td>    0.000</td>\n",
       "</tr>\n",
       "<tr>\n",
       "  <th>distance_seller_customer</th> <td>   -0.0003</td> <td> 2.32e-05</td> <td>  -12.934</td> <td> 0.000</td> <td>   -0.000</td> <td>   -0.000</td>\n",
       "</tr>\n",
       "</table>"
      ],
      "text/plain": [
       "<class 'statsmodels.iolib.summary.Summary'>\n",
       "\"\"\"\n",
       "                           Logit Regression Results                           \n",
       "==============================================================================\n",
       "Dep. Variable:        dim_is_one_star   No. Observations:                95872\n",
       "Model:                          Logit   Df Residuals:                    95864\n",
       "Method:                           MLE   Df Model:                            7\n",
       "Date:                Thu, 07 Nov 2024   Pseudo R-squ.:                  0.1448\n",
       "Time:                        09:26:20   Log-Likelihood:                -26229.\n",
       "converged:                       True   LL-Null:                       -30669.\n",
       "Covariance Type:            nonrobust   LLR p-value:                     0.000\n",
       "============================================================================================\n",
       "                               coef    std err          z      P>|z|      [0.025      0.975]\n",
       "--------------------------------------------------------------------------------------------\n",
       "Intercept                   -5.2724      0.070    -74.899      0.000      -5.410      -5.134\n",
       "wait_time                    0.0753      0.002     42.173      0.000       0.072       0.079\n",
       "delay_vs_expected            0.0548      0.004     13.801      0.000       0.047       0.063\n",
       "number_of_items              0.4665      0.020     23.634      0.000       0.428       0.505\n",
       "number_of_sellers            1.4382      0.064     22.642      0.000       1.314       1.563\n",
       "price                        0.0002   5.44e-05      4.464      0.000       0.000       0.000\n",
       "freight_value               -0.0010      0.001     -1.697      0.090      -0.002       0.000\n",
       "distance_seller_customer    -0.0003   2.32e-05    -12.934      0.000      -0.000      -0.000\n",
       "============================================================================================\n",
       "\"\"\""
      ]
     },
     "execution_count": 26,
     "metadata": {},
     "output_type": "execute_result"
    }
   ],
   "source": [
    "logit_one = smf.logit(formula=\"dim_is_one_star ~ wait_time + delay_vs_expected + number_of_items + number_of_sellers + price + freight_value + distance_seller_customer\", data=orders_c).fit()\n",
    "logit_one.summary()"
   ]
  },
  {
   "cell_type": "markdown",
   "metadata": {},
   "source": [
    "OBSERVACIONES:\n",
    "\n",
    "#Intercepto: Probabilidad baja de recibir una reseña de una estrella cuando todas las demás variables son cero.\n",
    "\n",
    "#wait_time: coeficiente positivo a medida que aumenta el tiempo de espera, la probabilidad de recibir una reseña de una estrella también aumenta. Es significativo por p-v\n",
    "\n",
    "#delay_vs_expected:coeficiente positivo los retrasos aumentan la probabilidad de recibir calificaciones bajas. Es significativo por p-v\n",
    "\n",
    "#number_of_items y number_of_sellers: Si aumentamos los items comprados puede aumentar la cantidad de sellers por compra, lo que aumenta la prob de recibir malas reseñas. Es significativo por p-v\n",
    "\n",
    "#price: Pedidos más caros pueden estar sujetos a una mayor probabilidad de recibir una reseña baja. Es significativo por p-v\n",
    "\n",
    "#freight_value: p-value mayor, no tiene significancia estadistica."
   ]
  },
  {
   "cell_type": "code",
   "execution_count": 28,
   "metadata": {},
   "outputs": [
    {
     "name": "stdout",
     "output_type": "stream",
     "text": [
      "Optimization terminated successfully.\n",
      "         Current function value: 0.636830\n",
      "         Iterations 7\n"
     ]
    },
    {
     "data": {
      "text/html": [
       "<table class=\"simpletable\">\n",
       "<caption>Logit Regression Results</caption>\n",
       "<tr>\n",
       "  <th>Dep. Variable:</th>   <td>dim_is_five_star</td> <th>  No. Observations:  </th>  <td> 95872</td> \n",
       "</tr>\n",
       "<tr>\n",
       "  <th>Model:</th>                 <td>Logit</td>      <th>  Df Residuals:      </th>  <td> 95864</td> \n",
       "</tr>\n",
       "<tr>\n",
       "  <th>Method:</th>                 <td>MLE</td>       <th>  Df Model:          </th>  <td>     7</td> \n",
       "</tr>\n",
       "<tr>\n",
       "  <th>Date:</th>            <td>Thu, 07 Nov 2024</td> <th>  Pseudo R-squ.:     </th>  <td>0.05806</td>\n",
       "</tr>\n",
       "<tr>\n",
       "  <th>Time:</th>                <td>09:27:14</td>     <th>  Log-Likelihood:    </th> <td> -61054.</td>\n",
       "</tr>\n",
       "<tr>\n",
       "  <th>converged:</th>             <td>True</td>       <th>  LL-Null:           </th> <td> -64817.</td>\n",
       "</tr>\n",
       "<tr>\n",
       "  <th>Covariance Type:</th>     <td>nonrobust</td>    <th>  LLR p-value:       </th>  <td> 0.000</td> \n",
       "</tr>\n",
       "</table>\n",
       "<table class=\"simpletable\">\n",
       "<tr>\n",
       "              <td></td>                <th>coef</th>     <th>std err</th>      <th>z</th>      <th>P>|z|</th>  <th>[0.025</th>    <th>0.975]</th>  \n",
       "</tr>\n",
       "<tr>\n",
       "  <th>Intercept</th>                <td>    2.4534</td> <td>    0.064</td> <td>   38.132</td> <td> 0.000</td> <td>    2.327</td> <td>    2.579</td>\n",
       "</tr>\n",
       "<tr>\n",
       "  <th>wait_time</th>                <td>   -0.0552</td> <td>    0.001</td> <td>  -44.693</td> <td> 0.000</td> <td>   -0.058</td> <td>   -0.053</td>\n",
       "</tr>\n",
       "<tr>\n",
       "  <th>delay_vs_expected</th>        <td>   -0.0930</td> <td>    0.005</td> <td>  -18.414</td> <td> 0.000</td> <td>   -0.103</td> <td>   -0.083</td>\n",
       "</tr>\n",
       "<tr>\n",
       "  <th>number_of_items</th>          <td>   -0.2548</td> <td>    0.016</td> <td>  -16.331</td> <td> 0.000</td> <td>   -0.285</td> <td>   -0.224</td>\n",
       "</tr>\n",
       "<tr>\n",
       "  <th>number_of_sellers</th>        <td>   -1.1542</td> <td>    0.063</td> <td>  -18.219</td> <td> 0.000</td> <td>   -1.278</td> <td>   -1.030</td>\n",
       "</tr>\n",
       "<tr>\n",
       "  <th>price</th>                    <td> 9.997e-05</td> <td> 3.67e-05</td> <td>    2.721</td> <td> 0.007</td> <td> 2.79e-05</td> <td>    0.000</td>\n",
       "</tr>\n",
       "<tr>\n",
       "  <th>freight_value</th>            <td>    0.0002</td> <td>    0.000</td> <td>    0.590</td> <td> 0.555</td> <td>   -0.001</td> <td>    0.001</td>\n",
       "</tr>\n",
       "<tr>\n",
       "  <th>distance_seller_customer</th> <td>    0.0001</td> <td>  1.4e-05</td> <td>   10.509</td> <td> 0.000</td> <td>    0.000</td> <td>    0.000</td>\n",
       "</tr>\n",
       "</table>"
      ],
      "text/plain": [
       "<class 'statsmodels.iolib.summary.Summary'>\n",
       "\"\"\"\n",
       "                           Logit Regression Results                           \n",
       "==============================================================================\n",
       "Dep. Variable:       dim_is_five_star   No. Observations:                95872\n",
       "Model:                          Logit   Df Residuals:                    95864\n",
       "Method:                           MLE   Df Model:                            7\n",
       "Date:                Thu, 07 Nov 2024   Pseudo R-squ.:                 0.05806\n",
       "Time:                        09:27:14   Log-Likelihood:                -61054.\n",
       "converged:                       True   LL-Null:                       -64817.\n",
       "Covariance Type:            nonrobust   LLR p-value:                     0.000\n",
       "============================================================================================\n",
       "                               coef    std err          z      P>|z|      [0.025      0.975]\n",
       "--------------------------------------------------------------------------------------------\n",
       "Intercept                    2.4534      0.064     38.132      0.000       2.327       2.579\n",
       "wait_time                   -0.0552      0.001    -44.693      0.000      -0.058      -0.053\n",
       "delay_vs_expected           -0.0930      0.005    -18.414      0.000      -0.103      -0.083\n",
       "number_of_items             -0.2548      0.016    -16.331      0.000      -0.285      -0.224\n",
       "number_of_sellers           -1.1542      0.063    -18.219      0.000      -1.278      -1.030\n",
       "price                     9.997e-05   3.67e-05      2.721      0.007    2.79e-05       0.000\n",
       "freight_value                0.0002      0.000      0.590      0.555      -0.001       0.001\n",
       "distance_seller_customer     0.0001    1.4e-05     10.509      0.000       0.000       0.000\n",
       "============================================================================================\n",
       "\"\"\""
      ]
     },
     "execution_count": 28,
     "metadata": {},
     "output_type": "execute_result"
    }
   ],
   "source": [
    "logit_five = smf.logit(formula=\"dim_is_five_star ~ wait_time + delay_vs_expected + number_of_items + number_of_sellers + price + freight_value + distance_seller_customer\", data=orders_c).fit()\n",
    "logit_five.summary()"
   ]
  },
  {
   "cell_type": "markdown",
   "metadata": {},
   "source": [
    "OBSERVACIONES:\n",
    "\n",
    "#Intercepto: Probabilidad recibir una reseña de cinco estrellas de forma general.\n",
    "\n",
    "#wait_time: cuando aumenta el tiempo de espera, la probabilidad de recibir una reseña de cinco estrellas disminuye. Es significativo por p-v\n",
    "\n",
    "#delay_vs_expected:los retrasos reducen la probabilidad de recibir una reseña de cinco estrellas. Es significativo por p-v\n",
    "\n",
    "#number_of_items y number_of_sellers: Si aumentamos los items comprados puede aumentar la cantidad de sellers por compra, lo que disminuye la prob de recibir una reseña de 5 estrellas. Es significativo por p-v\n",
    "\n",
    "#price: Pedidos más caros pueden estar sujetos a una mayor probabilidad de recibir una reseña de 5 estrellas. Es significativo por p-v\n",
    "\n",
    "#freight_value: p-value mayor, no tiene significancia estadistica."
   ]
  },
  {
   "cell_type": "markdown",
   "metadata": {},
   "source": [
    "🕵🏻 Check the `multi-colinearity` of your features, using the `VIF index`.\n",
    "\n",
    "* It shouldn't be too high (< 10 preferably) to ensure that we can trust the partial regression coefficents and their associated `p-values` \n",
    "* Do not forget to standardize your data ! \n",
    "    * A `VIF Analysis` is made by regressing a feature vs. the other features...\n",
    "    * So you want to `remove the effect of scale` so that your features have an equal importance before running any linear regression!\n",
    "    \n",
    "    \n",
    "📚 <a href=\"https://www.statisticshowto.com/variance-inflation-factor/\">Statistics How To - Variance Inflation Factor</a>\n",
    "\n",
    "📚  <a href=\"https://online.stat.psu.edu/stat462/node/180/\">PennState - Detecting Multicollinearity Using Variance Inflation Factors</a>"
   ]
  },
  {
   "cell_type": "markdown",
   "metadata": {},
   "source": [
    "⚖️ Standardizing:"
   ]
  },
  {
   "cell_type": "code",
   "execution_count": 30,
   "metadata": {
    "tags": [
     "challengify"
    ]
   },
   "outputs": [],
   "source": [
    "orders_c_scaled = orders_c.copy()\n",
    "features = ['wait_time', 'delay_vs_expected', 'number_of_items', 'number_of_sellers', 'price', 'freight_value', 'distance_seller_customer']"
   ]
  },
  {
   "cell_type": "code",
   "execution_count": 31,
   "metadata": {},
   "outputs": [
    {
     "data": {
      "text/html": [
       "<div>\n",
       "<style scoped>\n",
       "    .dataframe tbody tr th:only-of-type {\n",
       "        vertical-align: middle;\n",
       "    }\n",
       "\n",
       "    .dataframe tbody tr th {\n",
       "        vertical-align: top;\n",
       "    }\n",
       "\n",
       "    .dataframe thead th {\n",
       "        text-align: right;\n",
       "    }\n",
       "</style>\n",
       "<table border=\"1\" class=\"dataframe\">\n",
       "  <thead>\n",
       "    <tr style=\"text-align: right;\">\n",
       "      <th></th>\n",
       "      <th>wait_time</th>\n",
       "      <th>delay_vs_expected</th>\n",
       "      <th>number_of_items</th>\n",
       "      <th>number_of_sellers</th>\n",
       "      <th>price</th>\n",
       "      <th>freight_value</th>\n",
       "      <th>distance_seller_customer</th>\n",
       "    </tr>\n",
       "  </thead>\n",
       "  <tbody>\n",
       "    <tr>\n",
       "      <th>0</th>\n",
       "      <td>-0.431192</td>\n",
       "      <td>-0.161781</td>\n",
       "      <td>-0.264595</td>\n",
       "      <td>-0.112544</td>\n",
       "      <td>-0.513802</td>\n",
       "      <td>-0.652038</td>\n",
       "      <td>-0.979475</td>\n",
       "    </tr>\n",
       "    <tr>\n",
       "      <th>1</th>\n",
       "      <td>0.134174</td>\n",
       "      <td>-0.161781</td>\n",
       "      <td>-0.264595</td>\n",
       "      <td>-0.112544</td>\n",
       "      <td>-0.086640</td>\n",
       "      <td>0.000467</td>\n",
       "      <td>0.429743</td>\n",
       "    </tr>\n",
       "    <tr>\n",
       "      <th>2</th>\n",
       "      <td>-0.329907</td>\n",
       "      <td>-0.161781</td>\n",
       "      <td>-0.264595</td>\n",
       "      <td>-0.112544</td>\n",
       "      <td>0.111748</td>\n",
       "      <td>-0.164053</td>\n",
       "      <td>-0.145495</td>\n",
       "    </tr>\n",
       "    <tr>\n",
       "      <th>3</th>\n",
       "      <td>0.073540</td>\n",
       "      <td>-0.161781</td>\n",
       "      <td>-0.264595</td>\n",
       "      <td>-0.112544</td>\n",
       "      <td>-0.441525</td>\n",
       "      <td>0.206815</td>\n",
       "      <td>2.054621</td>\n",
       "    </tr>\n",
       "    <tr>\n",
       "      <th>4</th>\n",
       "      <td>-1.019535</td>\n",
       "      <td>-0.161781</td>\n",
       "      <td>-0.264595</td>\n",
       "      <td>-0.112544</td>\n",
       "      <td>-0.562388</td>\n",
       "      <td>-0.652038</td>\n",
       "      <td>-0.959115</td>\n",
       "    </tr>\n",
       "  </tbody>\n",
       "</table>\n",
       "</div>"
      ],
      "text/plain": [
       "   wait_time  delay_vs_expected  number_of_items  number_of_sellers     price  \\\n",
       "0  -0.431192          -0.161781        -0.264595          -0.112544 -0.513802   \n",
       "1   0.134174          -0.161781        -0.264595          -0.112544 -0.086640   \n",
       "2  -0.329907          -0.161781        -0.264595          -0.112544  0.111748   \n",
       "3   0.073540          -0.161781        -0.264595          -0.112544 -0.441525   \n",
       "4  -1.019535          -0.161781        -0.264595          -0.112544 -0.562388   \n",
       "\n",
       "   freight_value  distance_seller_customer  \n",
       "0      -0.652038                 -0.979475  \n",
       "1       0.000467                  0.429743  \n",
       "2      -0.164053                 -0.145495  \n",
       "3       0.206815                  2.054621  \n",
       "4      -0.652038                 -0.959115  "
      ]
     },
     "execution_count": 31,
     "metadata": {},
     "output_type": "execute_result"
    }
   ],
   "source": [
    "for feature in features:\n",
    "    mu = orders_c[feature].mean()\n",
    "    sigma = orders_c[feature].std()\n",
    "    orders_c_scaled[feature] = (orders_c_scaled[feature] - mu) / sigma\n",
    "\n",
    "orders_c_scaled[features].head()"
   ]
  },
  {
   "cell_type": "markdown",
   "metadata": {},
   "source": [
    "👉 Run your VIF Analysis to analyze the potential multicolinearities:"
   ]
  },
  {
   "cell_type": "code",
   "execution_count": 39,
   "metadata": {
    "tags": [
     "challengify"
    ]
   },
   "outputs": [],
   "source": [
    "from statsmodels.stats.outliers_influence import variance_inflation_factor as vif"
   ]
  },
  {
   "cell_type": "code",
   "execution_count": 41,
   "metadata": {},
   "outputs": [
    {
     "data": {
      "text/html": [
       "<div>\n",
       "<style scoped>\n",
       "    .dataframe tbody tr th:only-of-type {\n",
       "        vertical-align: middle;\n",
       "    }\n",
       "\n",
       "    .dataframe tbody tr th {\n",
       "        vertical-align: top;\n",
       "    }\n",
       "\n",
       "    .dataframe thead th {\n",
       "        text-align: right;\n",
       "    }\n",
       "</style>\n",
       "<table border=\"1\" class=\"dataframe\">\n",
       "  <thead>\n",
       "    <tr style=\"text-align: right;\">\n",
       "      <th></th>\n",
       "      <th>features</th>\n",
       "      <th>vif_index</th>\n",
       "    </tr>\n",
       "  </thead>\n",
       "  <tbody>\n",
       "    <tr>\n",
       "      <th>0</th>\n",
       "      <td>wait_time</td>\n",
       "      <td>2.62</td>\n",
       "    </tr>\n",
       "    <tr>\n",
       "      <th>1</th>\n",
       "      <td>delay_vs_expected</td>\n",
       "      <td>2.21</td>\n",
       "    </tr>\n",
       "    <tr>\n",
       "      <th>5</th>\n",
       "      <td>freight_value</td>\n",
       "      <td>1.67</td>\n",
       "    </tr>\n",
       "    <tr>\n",
       "      <th>6</th>\n",
       "      <td>distance_seller_customer</td>\n",
       "      <td>1.44</td>\n",
       "    </tr>\n",
       "    <tr>\n",
       "      <th>2</th>\n",
       "      <td>number_of_items</td>\n",
       "      <td>1.37</td>\n",
       "    </tr>\n",
       "    <tr>\n",
       "      <th>4</th>\n",
       "      <td>price</td>\n",
       "      <td>1.21</td>\n",
       "    </tr>\n",
       "    <tr>\n",
       "      <th>3</th>\n",
       "      <td>number_of_sellers</td>\n",
       "      <td>1.09</td>\n",
       "    </tr>\n",
       "  </tbody>\n",
       "</table>\n",
       "</div>"
      ],
      "text/plain": [
       "                   features  vif_index\n",
       "0                 wait_time       2.62\n",
       "1         delay_vs_expected       2.21\n",
       "5             freight_value       1.67\n",
       "6  distance_seller_customer       1.44\n",
       "2           number_of_items       1.37\n",
       "4                     price       1.21\n",
       "3         number_of_sellers       1.09"
      ]
     },
     "execution_count": 41,
     "metadata": {},
     "output_type": "execute_result"
    }
   ],
   "source": [
    "orders_c_scaled_features = orders_c_scaled[features]\n",
    "vif_data = pd.DataFrame()\n",
    "vif_data[\"features\"] = orders_c_scaled_features.columns\n",
    "\n",
    "vif_values = []\n",
    "for i in range(orders_c_scaled_features.shape[1]):\n",
    "    vif_value = vif(orders_c_scaled_features.values, i)\n",
    "    vif_values.append(vif_value)\n",
    "\n",
    "vif_data[\"vif_index\"] = vif_values\n",
    "vif_data = round(vif_data.sort_values(by=\"vif_index\", ascending=False), 2)\n",
    "vif_data"
   ]
  },
  {
   "cell_type": "markdown",
   "metadata": {},
   "source": [
    "## Logistic Regressions"
   ]
  },
  {
   "cell_type": "markdown",
   "metadata": {},
   "source": [
    "👉 Fit two `Logistic Regression` models:\n",
    "- `logit_one` to predict `dim_is_one_star` \n",
    "- `logit_five` to predict `dim_is_five_star`."
   ]
  },
  {
   "cell_type": "markdown",
   "metadata": {},
   "source": [
    "`Logit 1️⃣`"
   ]
  },
  {
   "cell_type": "code",
   "execution_count": 37,
   "metadata": {
    "tags": [
     "challengify"
    ]
   },
   "outputs": [
    {
     "name": "stdout",
     "output_type": "stream",
     "text": [
      "Optimization terminated successfully.\n",
      "         Current function value: 0.273582\n",
      "         Iterations 7\n"
     ]
    },
    {
     "data": {
      "text/html": [
       "<table class=\"simpletable\">\n",
       "<caption>Logit Regression Results</caption>\n",
       "<tr>\n",
       "  <th>Dep. Variable:</th>    <td>dim_is_one_star</td> <th>  No. Observations:  </th>  <td> 95872</td> \n",
       "</tr>\n",
       "<tr>\n",
       "  <th>Model:</th>                 <td>Logit</td>      <th>  Df Residuals:      </th>  <td> 95864</td> \n",
       "</tr>\n",
       "<tr>\n",
       "  <th>Method:</th>                 <td>MLE</td>       <th>  Df Model:          </th>  <td>     7</td> \n",
       "</tr>\n",
       "<tr>\n",
       "  <th>Date:</th>            <td>Thu, 07 Nov 2024</td> <th>  Pseudo R-squ.:     </th>  <td>0.1448</td> \n",
       "</tr>\n",
       "<tr>\n",
       "  <th>Time:</th>                <td>10:00:53</td>     <th>  Log-Likelihood:    </th> <td> -26229.</td>\n",
       "</tr>\n",
       "<tr>\n",
       "  <th>converged:</th>             <td>True</td>       <th>  LL-Null:           </th> <td> -30669.</td>\n",
       "</tr>\n",
       "<tr>\n",
       "  <th>Covariance Type:</th>     <td>nonrobust</td>    <th>  LLR p-value:       </th>  <td> 0.000</td> \n",
       "</tr>\n",
       "</table>\n",
       "<table class=\"simpletable\">\n",
       "<tr>\n",
       "              <td></td>                <th>coef</th>     <th>std err</th>      <th>z</th>      <th>P>|z|</th>  <th>[0.025</th>    <th>0.975]</th>  \n",
       "</tr>\n",
       "<tr>\n",
       "  <th>Intercept</th>                <td>   -2.4676</td> <td>    0.013</td> <td> -190.852</td> <td> 0.000</td> <td>   -2.493</td> <td>   -2.442</td>\n",
       "</tr>\n",
       "<tr>\n",
       "  <th>wait_time</th>                <td>    0.7124</td> <td>    0.017</td> <td>   42.173</td> <td> 0.000</td> <td>    0.679</td> <td>    0.746</td>\n",
       "</tr>\n",
       "<tr>\n",
       "  <th>delay_vs_expected</th>        <td>    0.2553</td> <td>    0.019</td> <td>   13.801</td> <td> 0.000</td> <td>    0.219</td> <td>    0.292</td>\n",
       "</tr>\n",
       "<tr>\n",
       "  <th>number_of_items</th>          <td>    0.2500</td> <td>    0.011</td> <td>   23.634</td> <td> 0.000</td> <td>    0.229</td> <td>    0.271</td>\n",
       "</tr>\n",
       "<tr>\n",
       "  <th>number_of_sellers</th>        <td>    0.1778</td> <td>    0.008</td> <td>   22.642</td> <td> 0.000</td> <td>    0.162</td> <td>    0.193</td>\n",
       "</tr>\n",
       "<tr>\n",
       "  <th>price</th>                    <td>    0.0505</td> <td>    0.011</td> <td>    4.464</td> <td> 0.000</td> <td>    0.028</td> <td>    0.073</td>\n",
       "</tr>\n",
       "<tr>\n",
       "  <th>freight_value</th>            <td>   -0.0219</td> <td>    0.013</td> <td>   -1.697</td> <td> 0.090</td> <td>   -0.047</td> <td>    0.003</td>\n",
       "</tr>\n",
       "<tr>\n",
       "  <th>distance_seller_customer</th> <td>   -0.1785</td> <td>    0.014</td> <td>  -12.934</td> <td> 0.000</td> <td>   -0.206</td> <td>   -0.151</td>\n",
       "</tr>\n",
       "</table>"
      ],
      "text/plain": [
       "<class 'statsmodels.iolib.summary.Summary'>\n",
       "\"\"\"\n",
       "                           Logit Regression Results                           \n",
       "==============================================================================\n",
       "Dep. Variable:        dim_is_one_star   No. Observations:                95872\n",
       "Model:                          Logit   Df Residuals:                    95864\n",
       "Method:                           MLE   Df Model:                            7\n",
       "Date:                Thu, 07 Nov 2024   Pseudo R-squ.:                  0.1448\n",
       "Time:                        10:00:53   Log-Likelihood:                -26229.\n",
       "converged:                       True   LL-Null:                       -30669.\n",
       "Covariance Type:            nonrobust   LLR p-value:                     0.000\n",
       "============================================================================================\n",
       "                               coef    std err          z      P>|z|      [0.025      0.975]\n",
       "--------------------------------------------------------------------------------------------\n",
       "Intercept                   -2.4676      0.013   -190.852      0.000      -2.493      -2.442\n",
       "wait_time                    0.7124      0.017     42.173      0.000       0.679       0.746\n",
       "delay_vs_expected            0.2553      0.019     13.801      0.000       0.219       0.292\n",
       "number_of_items              0.2500      0.011     23.634      0.000       0.229       0.271\n",
       "number_of_sellers            0.1778      0.008     22.642      0.000       0.162       0.193\n",
       "price                        0.0505      0.011      4.464      0.000       0.028       0.073\n",
       "freight_value               -0.0219      0.013     -1.697      0.090      -0.047       0.003\n",
       "distance_seller_customer    -0.1785      0.014    -12.934      0.000      -0.206      -0.151\n",
       "============================================================================================\n",
       "\"\"\""
      ]
     },
     "execution_count": 37,
     "metadata": {},
     "output_type": "execute_result"
    }
   ],
   "source": [
    "logit_one = smf.logit(formula=\"dim_is_one_star ~ wait_time + delay_vs_expected + number_of_items + number_of_sellers + price + freight_value + distance_seller_customer\", data=orders_c_scaled).fit()\n",
    "logit_one.summary()"
   ]
  },
  {
   "cell_type": "markdown",
   "metadata": {},
   "source": [
    "`Logit 5️⃣`"
   ]
  },
  {
   "cell_type": "code",
   "execution_count": 38,
   "metadata": {
    "tags": [
     "challengify"
    ]
   },
   "outputs": [
    {
     "name": "stdout",
     "output_type": "stream",
     "text": [
      "Optimization terminated successfully.\n",
      "         Current function value: 0.636830\n",
      "         Iterations 7\n"
     ]
    },
    {
     "data": {
      "text/html": [
       "<table class=\"simpletable\">\n",
       "<caption>Logit Regression Results</caption>\n",
       "<tr>\n",
       "  <th>Dep. Variable:</th>   <td>dim_is_five_star</td> <th>  No. Observations:  </th>  <td> 95872</td> \n",
       "</tr>\n",
       "<tr>\n",
       "  <th>Model:</th>                 <td>Logit</td>      <th>  Df Residuals:      </th>  <td> 95864</td> \n",
       "</tr>\n",
       "<tr>\n",
       "  <th>Method:</th>                 <td>MLE</td>       <th>  Df Model:          </th>  <td>     7</td> \n",
       "</tr>\n",
       "<tr>\n",
       "  <th>Date:</th>            <td>Thu, 07 Nov 2024</td> <th>  Pseudo R-squ.:     </th>  <td>0.05806</td>\n",
       "</tr>\n",
       "<tr>\n",
       "  <th>Time:</th>                <td>10:00:55</td>     <th>  Log-Likelihood:    </th> <td> -61054.</td>\n",
       "</tr>\n",
       "<tr>\n",
       "  <th>converged:</th>             <td>True</td>       <th>  LL-Null:           </th> <td> -64817.</td>\n",
       "</tr>\n",
       "<tr>\n",
       "  <th>Covariance Type:</th>     <td>nonrobust</td>    <th>  LLR p-value:       </th>  <td> 0.000</td> \n",
       "</tr>\n",
       "</table>\n",
       "<table class=\"simpletable\">\n",
       "<tr>\n",
       "              <td></td>                <th>coef</th>     <th>std err</th>      <th>z</th>      <th>P>|z|</th>  <th>[0.025</th>    <th>0.975]</th>  \n",
       "</tr>\n",
       "<tr>\n",
       "  <th>Intercept</th>                <td>    0.3388</td> <td>    0.007</td> <td>   47.340</td> <td> 0.000</td> <td>    0.325</td> <td>    0.353</td>\n",
       "</tr>\n",
       "<tr>\n",
       "  <th>wait_time</th>                <td>   -0.5219</td> <td>    0.012</td> <td>  -44.693</td> <td> 0.000</td> <td>   -0.545</td> <td>   -0.499</td>\n",
       "</tr>\n",
       "<tr>\n",
       "  <th>delay_vs_expected</th>        <td>   -0.4330</td> <td>    0.024</td> <td>  -18.414</td> <td> 0.000</td> <td>   -0.479</td> <td>   -0.387</td>\n",
       "</tr>\n",
       "<tr>\n",
       "  <th>number_of_items</th>          <td>   -0.1365</td> <td>    0.008</td> <td>  -16.331</td> <td> 0.000</td> <td>   -0.153</td> <td>   -0.120</td>\n",
       "</tr>\n",
       "<tr>\n",
       "  <th>number_of_sellers</th>        <td>   -0.1427</td> <td>    0.008</td> <td>  -18.219</td> <td> 0.000</td> <td>   -0.158</td> <td>   -0.127</td>\n",
       "</tr>\n",
       "<tr>\n",
       "  <th>price</th>                    <td>    0.0208</td> <td>    0.008</td> <td>    2.721</td> <td> 0.007</td> <td>    0.006</td> <td>    0.036</td>\n",
       "</tr>\n",
       "<tr>\n",
       "  <th>freight_value</th>            <td>    0.0053</td> <td>    0.009</td> <td>    0.590</td> <td> 0.555</td> <td>   -0.012</td> <td>    0.023</td>\n",
       "</tr>\n",
       "<tr>\n",
       "  <th>distance_seller_customer</th> <td>    0.0872</td> <td>    0.008</td> <td>   10.509</td> <td> 0.000</td> <td>    0.071</td> <td>    0.103</td>\n",
       "</tr>\n",
       "</table>"
      ],
      "text/plain": [
       "<class 'statsmodels.iolib.summary.Summary'>\n",
       "\"\"\"\n",
       "                           Logit Regression Results                           \n",
       "==============================================================================\n",
       "Dep. Variable:       dim_is_five_star   No. Observations:                95872\n",
       "Model:                          Logit   Df Residuals:                    95864\n",
       "Method:                           MLE   Df Model:                            7\n",
       "Date:                Thu, 07 Nov 2024   Pseudo R-squ.:                 0.05806\n",
       "Time:                        10:00:55   Log-Likelihood:                -61054.\n",
       "converged:                       True   LL-Null:                       -64817.\n",
       "Covariance Type:            nonrobust   LLR p-value:                     0.000\n",
       "============================================================================================\n",
       "                               coef    std err          z      P>|z|      [0.025      0.975]\n",
       "--------------------------------------------------------------------------------------------\n",
       "Intercept                    0.3388      0.007     47.340      0.000       0.325       0.353\n",
       "wait_time                   -0.5219      0.012    -44.693      0.000      -0.545      -0.499\n",
       "delay_vs_expected           -0.4330      0.024    -18.414      0.000      -0.479      -0.387\n",
       "number_of_items             -0.1365      0.008    -16.331      0.000      -0.153      -0.120\n",
       "number_of_sellers           -0.1427      0.008    -18.219      0.000      -0.158      -0.127\n",
       "price                        0.0208      0.008      2.721      0.007       0.006       0.036\n",
       "freight_value                0.0053      0.009      0.590      0.555      -0.012       0.023\n",
       "distance_seller_customer     0.0872      0.008     10.509      0.000       0.071       0.103\n",
       "============================================================================================\n",
       "\"\"\""
      ]
     },
     "execution_count": 38,
     "metadata": {},
     "output_type": "execute_result"
    }
   ],
   "source": [
    "logit_five = smf.logit(formula=\"dim_is_five_star ~ wait_time + delay_vs_expected + number_of_items + number_of_sellers + price + freight_value + distance_seller_customer\", data=orders_c_scaled).fit()\n",
    "logit_five.summary()"
   ]
  },
  {
   "cell_type": "markdown",
   "metadata": {},
   "source": [
    "#wait_time y delay_vs_expected: Estas variables son consistentes en ambos modelos. Aumentan la probabilidad de una reseña de una estrella y disminuyen la probabilidad de una reseña de cinco estrellas, destacando la importancia de tiempos de entrega rápidos y cumplidos.\n",
    "\n",
    "#Control de otras variables: Variables como number_of_items, price, y distance_seller_customer tienen diferentes efectos en la probabilidad de recibir reseñas extremas, lo cual nos da un panorama más \n",
    "completo sobre los factores que influyen en la satisfacción del cliente."
   ]
  },
  {
   "cell_type": "markdown",
   "metadata": {},
   "source": [
    "💡 It's time to analyse the results of these two logistic regressions:\n",
    "\n",
    "- Interpret the partial coefficients in your own words.\n",
    "- Check their statistical significances with `p-values`\n",
    "- Do you notice any differences between `logit_one` and `logit_five` in terms of coefficient importances?"
   ]
  },
  {
   "cell_type": "code",
   "execution_count": 43,
   "metadata": {},
   "outputs": [],
   "source": [
    "# Among the following sentences, store the ones that are true in the list below\n",
    "\n",
    "a = \"delay_vs_expected influences five_star ratings even more than one_star ratings\"\n",
    "b = \"wait_time influences five_star ratings even more more than one_star\"\n",
    "\n",
    "your_answer = [a]"
   ]
  },
  {
   "cell_type": "markdown",
   "metadata": {},
   "source": [
    "🧪 __Test your code__"
   ]
  },
  {
   "cell_type": "code",
   "execution_count": 44,
   "metadata": {},
   "outputs": [
    {
     "name": "stdout",
     "output_type": "stream",
     "text": [
      "\n",
      "\u001b[1m============================= test session starts ==============================\u001b[0m\n",
      "platform linux -- Python 3.10.6, pytest-7.1.3, pluggy-1.0.0 -- /root/.pyenv/versions/3.10.6/envs/lewagon/bin/python\n",
      "cachedir: .pytest_cache\n",
      "rootdir: /root/code/MonicaVenzor/04-Decision-Science/04-Logistic-Regression/data-logit/tests\n",
      "plugins: anyio-3.6.2, asyncio-0.19.0\n",
      "asyncio: mode=strict\n",
      "\u001b[1mcollecting ... \u001b[0mcollected 1 item\n",
      "\n",
      "test_logit.py::TestLogit::test_question \u001b[32mPASSED\u001b[0m\u001b[32m                           [100%]\u001b[0m\n",
      "\n",
      "\u001b[32m============================== \u001b[32m\u001b[1m1 passed\u001b[0m\u001b[32m in 0.02s\u001b[0m\u001b[32m ===============================\u001b[0m\n",
      "\n",
      "\n",
      "💯 You can commit your code:\n",
      "\n",
      "\u001b[1;32mgit\u001b[39m add tests/logit.pickle\n",
      "\n",
      "\u001b[32mgit\u001b[39m commit -m \u001b[33m'Completed logit step'\u001b[39m\n",
      "\n",
      "\u001b[32mgit\u001b[39m push origin master\n",
      "\n"
     ]
    }
   ],
   "source": [
    "from nbresult import ChallengeResult\n",
    "\n",
    "result = ChallengeResult('logit',\n",
    "    answers = your_answer\n",
    ")\n",
    "result.write()\n",
    "print(result.check())"
   ]
  },
  {
   "cell_type": "markdown",
   "metadata": {},
   "source": [
    "<details>\n",
    "    <summary>- <i>Explanations and advanced concepts </i> -</summary>\n",
    "\n",
    "\n",
    "> _All other thing being equal, the `delay factor` tends to increase the chances of getting stripped of the 5-star even more so than it affect the chances of 1-star reviews. Probably because 1-stars are really targeting bad products themselves, not bad deliveries_\n",
    "    \n",
    "❗️ However, to be totally rigorous, we have to be **more careful when comparing coefficients from two different models**, because **they might not be based on similar populations**!\n",
    "    We have 2 sub-populations here: (people who gave 1-stars; and people who gave 5-stars) and they may exhibit intrinsically different behavior patterns. It may well be that \"happy-people\" (who tends to give 5-stars easily) are less sensitive as \"grumpy-people\" (who shoot 1-stars like Lucky-Luke), when it comes to \"delay\", or \"price\"...\n",
    "\n",
    "</details>\n"
   ]
  },
  {
   "cell_type": "markdown",
   "metadata": {},
   "source": [
    "🏁 Congratulations! \n",
    "\n",
    "💾 Don't forget to commit and push your `logit.ipynb` notebook !"
   ]
  }
 ],
 "metadata": {
  "kernelspec": {
   "display_name": "Python 3 (ipykernel)",
   "language": "python",
   "name": "python3"
  },
  "language_info": {
   "codemirror_mode": {
    "name": "ipython",
    "version": 3
   },
   "file_extension": ".py",
   "mimetype": "text/x-python",
   "name": "python",
   "nbconvert_exporter": "python",
   "pygments_lexer": "ipython3",
   "version": "3.10.6"
  }
 },
 "nbformat": 4,
 "nbformat_minor": 4
}
